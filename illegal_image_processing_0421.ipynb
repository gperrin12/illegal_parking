{
 "cells": [
  {
   "cell_type": "code",
   "execution_count": 1,
   "metadata": {
    "collapsed": false
   },
   "outputs": [],
   "source": [
    "import cv2\n",
    "import numpy as np\n",
    "import os\n",
    "from IPython.display import Image\n",
    "import pandas as pd\n",
    "import matplotlib.cm as cm\n",
    "import matplotlib.pyplot as plt\n",
    "%matplotlib inline\n",
    "pd.options.display.max_columns = 120"
   ]
  },
  {
   "cell_type": "code",
   "execution_count": 3,
   "metadata": {
    "collapsed": false
   },
   "outputs": [
    {
     "data": {
      "text/plain": [
       "True"
      ]
     },
     "execution_count": 3,
     "metadata": {},
     "output_type": "execute_result"
    }
   ],
   "source": [
    "img1 = cv2.imread('pictures/GOPR0199.JPG')\n",
    "img2 = cv2.imread('pictures/GOPR0198.JPG')\n",
    "\n",
    "diff = cv2.subtract(img1, img2)\n",
    "\n",
    "result = not np.any(diff)\n",
    "\n",
    "cv2.imwrite('pictures/result.jpg',diff)"
   ]
  },
  {
   "cell_type": "code",
   "execution_count": 4,
   "metadata": {
    "collapsed": false
   },
   "outputs": [
    {
     "data": {
      "text/plain": [
       "True"
      ]
     },
     "execution_count": 4,
     "metadata": {},
     "output_type": "execute_result"
    }
   ],
   "source": [
    "img1 = cv2.imread('pictures/GOPR0199.JPG')\n",
    "img2 = cv2.imread('pictures/GOPR0198.JPG')\n",
    "\n",
    "diff = cv2.subtract(img1, img2)\n",
    "\n",
    "result = not np.any(diff)\n",
    "\n",
    "cv2.imwrite('pictures/result2.jpg',diff)"
   ]
  },
  {
   "cell_type": "code",
   "execution_count": 5,
   "metadata": {
    "collapsed": false
   },
   "outputs": [
    {
     "data": {
      "text/plain": [
       "True"
      ]
     },
     "execution_count": 5,
     "metadata": {},
     "output_type": "execute_result"
    }
   ],
   "source": [
    "img1 = cv2.imread('pictures/GOPR0239.JPG')\n",
    "img2 = cv2.imread('pictures/GOPR0238.JPG')\n",
    "\n",
    "diff = cv2.subtract(img1, img2)\n",
    "\n",
    "result = not np.any(diff)\n",
    "\n",
    "cv2.imwrite('pictures/result3.jpg',diff)"
   ]
  },
  {
   "cell_type": "code",
   "execution_count": null,
   "metadata": {
    "collapsed": true
   },
   "outputs": [],
   "source": []
  },
  {
   "cell_type": "code",
   "execution_count": 6,
   "metadata": {
    "collapsed": false
   },
   "outputs": [
    {
     "data": {
      "text/plain": [
       "True"
      ]
     },
     "execution_count": 6,
     "metadata": {},
     "output_type": "execute_result"
    }
   ],
   "source": [
    "img1 = cv2.imread('pictures/GOPR0239.JPG')\n",
    "img2 = cv2.imread('pictures/GOPR0240.JPG')\n",
    "\n",
    "diff = cv2.subtract(img1, img2)\n",
    "\n",
    "result = not np.any(diff)\n",
    "\n",
    "cv2.imwrite('pictures/result4.jpg',diff)"
   ]
  },
  {
   "cell_type": "code",
   "execution_count": 7,
   "metadata": {
    "collapsed": false
   },
   "outputs": [
    {
     "data": {
      "text/plain": [
       "True"
      ]
     },
     "execution_count": 7,
     "metadata": {},
     "output_type": "execute_result"
    }
   ],
   "source": [
    "img1 = cv2.imread('pictures/Proj1_img00000020.jpg')\n",
    "img2 = cv2.imread('pictures/Proj1_img00000015r.jpg')\n",
    "\n",
    "diff = cv2.subtract(img1, img2)\n",
    "\n",
    "result = not np.any(diff)\n",
    "\n",
    "cv2.imwrite('pictures/jay1.jpg',diff)"
   ]
  },
  {
   "cell_type": "code",
   "execution_count": null,
   "metadata": {
    "collapsed": true
   },
   "outputs": [],
   "source": []
  },
  {
   "cell_type": "code",
   "execution_count": null,
   "metadata": {
    "collapsed": true
   },
   "outputs": [],
   "source": []
  }
 ],
 "metadata": {
  "anaconda-cloud": {},
  "kernelspec": {
   "display_name": "Python 2",
   "language": "python",
   "name": "python2"
  },
  "language_info": {
   "codemirror_mode": {
    "name": "ipython",
    "version": 2
   },
   "file_extension": ".py",
   "mimetype": "text/x-python",
   "name": "python",
   "nbconvert_exporter": "python",
   "pygments_lexer": "ipython2",
   "version": "2.7.13"
  }
 },
 "nbformat": 4,
 "nbformat_minor": 0
}
