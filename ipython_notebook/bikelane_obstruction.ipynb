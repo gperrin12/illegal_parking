{
 "cells": [
  {
   "cell_type": "code",
   "execution_count": 1,
   "metadata": {
    "collapsed": true
   },
   "outputs": [],
   "source": [
    "import cv2\n",
    "import numpy as np\n",
    "import subprocess\n",
    "import os\n",
    "from IPython.display import Image\n",
    "import pandas as pd\n",
    "import matplotlib.cm as cm\n",
    "import matplotlib.pyplot as plt\n",
    "%matplotlib inline\n",
    "pd.options.display.max_columns = 120\n",
    "\n",
    "# make sure we are at the top of the repo\n",
    "wd = subprocess.check_output('git rev-parse --show-toplevel', shell = True)\n",
    "os.chdir(wd[:-1]) #-1 removes \\n"
   ]
  },
  {
   "cell_type": "code",
   "execution_count": 2,
   "metadata": {
    "collapsed": true
   },
   "outputs": [],
   "source": [
    "def obs_check(mask1, mask2, imgA, imgB, imgC):\n",
    "    # generate the bikelane mask from our edited photos from each other\n",
    "    mask1 = cv2.imread(mask1,0) # white\n",
    "    mask2 = cv2.imread(mask2,0) # red\n",
    "    mask = cv2.subtract(mask1, mask2) # red - white\n",
    "   \n",
    "    # write the mask to a jpg\n",
    "    cv2.imwrite('pictures/mask.jpg', mask)\n",
    "    \n",
    "    # edit mask to give us lane identifier\n",
    "    mask[mask < 10] = 0\n",
    "    mask[mask >= 10] = 1\n",
    "\n",
    "    # read in original images\n",
    "    imgA = cv2.imread(imgA,0)\n",
    "    imgB = cv2.imread(imgB,0)\n",
    "    imgC = cv2.imread(imgC,0)\n",
    "    \n",
    "    # look only at the mask\n",
    "    Aprime = mask * imgA\n",
    "    Bprime = mask * imgB\n",
    "    Cprime = mask * imgC\n",
    "    \n",
    "    # get diffs\n",
    "    dAB = cv2.subtract(Bprime, Aprime)\n",
    "    dBC = cv2.subtract(Cprime, Bprime)\n",
    "    dAC = cv2.subtract(Cprime, Aprime)\n",
    "    \n",
    "    # export\n",
    "    cv2.imwrite('pictures/aprime.jpg',Aprime)\n",
    "    cv2.imwrite('pictures/bprime.jpg',Bprime)\n",
    "    cv2.imwrite('pictures/cprime.jpg',Cprime)\n",
    "    cv2.imwrite('pictures/dAB.jpg', dAB)\n",
    "    cv2.imwrite('pictures/dBC.jpg', dBC)\n",
    "    cv2.imwrite('pictures/dAC.jpg', dAC)\n",
    "    \n",
    "    if len(dAB[dAB > 50]) < 65:\n",
    "        return(0)\n",
    "    \n",
    "    \n",
    "    # use dAB as a mask\n",
    "    #d = cv2.subtract(dBC, dAC)\n",
    "    #cv2.imwrite('pictures/d.jpg', d)\n",
    "    dAB[dAB < 20] = 0\n",
    "    dAB[dAB >= 20] = 1\n",
    "    \n",
    "    #d[d < 20] = 0\n",
    "    #d[d >= 20] = 1\n",
    "\n",
    "    last = dAB * dBC\n",
    "    cv2.imwrite('pictures/last.jpg', last)\n",
    "    \n",
    "    # threshold for changed pixels  \n",
    "    if len(last[last > 20]) > 15:\n",
    "        return(0)\n",
    "    else:\n",
    "        return(1)"
   ]
  },
  {
   "cell_type": "code",
   "execution_count": 3,
   "metadata": {
    "collapsed": false
   },
   "outputs": [
    {
     "data": {
      "text/plain": [
       "0"
      ]
     },
     "execution_count": 3,
     "metadata": {},
     "output_type": "execute_result"
    }
   ],
   "source": [
    "# no obstruction case\n",
    "obs_check('pictures/mask_1.jpg', 'pictures/mask_2.jpg', 'pictures/no_obs1.jpg', 'pictures/no_obs2.jpg', 'pictures/no_obs3.jpg')"
   ]
  },
  {
   "cell_type": "code",
   "execution_count": 4,
   "metadata": {
    "collapsed": false
   },
   "outputs": [
    {
     "data": {
      "text/plain": [
       "1"
      ]
     },
     "execution_count": 4,
     "metadata": {},
     "output_type": "execute_result"
    }
   ],
   "source": [
    "# obstruction case\n",
    "obs_check('pictures/mask_1.jpg', 'pictures/mask_2.jpg', 'pictures/obs1.jpg', 'pictures/obs2.jpg', 'pictures/obs3.jpg')"
   ]
  },
  {
   "cell_type": "code",
   "execution_count": 5,
   "metadata": {
    "collapsed": false
   },
   "outputs": [
    {
     "data": {
      "text/plain": [
       "0"
      ]
     },
     "execution_count": 5,
     "metadata": {},
     "output_type": "execute_result"
    }
   ],
   "source": [
    "# no obstruction again\n",
    "obs_check('pictures/mask_1.jpg', 'pictures/mask_2.jpg', 'pictures/Proj4_img00000011.jpg',\n",
    "         'pictures/Proj4_img00000012.jpg', 'pictures/Proj4_img00000013.jpg')"
   ]
  },
  {
   "cell_type": "code",
   "execution_count": 6,
   "metadata": {
    "collapsed": false
   },
   "outputs": [
    {
     "data": {
      "text/plain": [
       "1"
      ]
     },
     "execution_count": 6,
     "metadata": {},
     "output_type": "execute_result"
    }
   ],
   "source": [
    "# obstruction again\n",
    "obs_check('pictures/mask_1.jpg', 'pictures/mask_2.jpg', 'pictures/Proj4_img00000071.jpg',\n",
    "         'pictures/Proj4_img00000072.jpg', 'pictures/Proj4_img00000073.jpg')"
   ]
  },
  {
   "cell_type": "code",
   "execution_count": 7,
   "metadata": {
    "collapsed": false
   },
   "outputs": [
    {
     "data": {
      "text/plain": [
       "0"
      ]
     },
     "execution_count": 7,
     "metadata": {},
     "output_type": "execute_result"
    }
   ],
   "source": [
    "# cyclists -- no obstruction\n",
    "obs_check('pictures/mask_1.jpg', 'pictures/mask_2.jpg', 'pictures/Proj4_img00000019.jpg',\n",
    "         'pictures/Proj4_img00000020.jpg', 'pictures/Proj4_img00000021.jpg')"
   ]
  },
  {
   "cell_type": "code",
   "execution_count": 8,
   "metadata": {
    "collapsed": false
   },
   "outputs": [
    {
     "data": {
      "text/plain": [
       "1"
      ]
     },
     "execution_count": 8,
     "metadata": {},
     "output_type": "execute_result"
    }
   ],
   "source": [
    "# another obstruction\n",
    "obs_check('pictures/mask_1.jpg', 'pictures/mask_2.jpg', 'pictures/Proj4_img00000172.jpg',\n",
    "         'pictures/Proj4_img00000173.jpg', 'pictures/Proj4_img00000174.jpg')"
   ]
  },
  {
   "cell_type": "code",
   "execution_count": 9,
   "metadata": {
    "collapsed": false
   },
   "outputs": [
    {
     "data": {
      "text/plain": [
       "68"
      ]
     },
     "execution_count": 9,
     "metadata": {},
     "output_type": "execute_result"
    }
   ],
   "source": [
    "dAB = cv2.imread('pictures/dAB.jpg',0)\n",
    "len(dAB[dAB > 50])"
   ]
  },
  {
   "cell_type": "code",
   "execution_count": 10,
   "metadata": {
    "collapsed": false
   },
   "outputs": [
    {
     "data": {
      "text/plain": [
       "0"
      ]
     },
     "execution_count": 10,
     "metadata": {},
     "output_type": "execute_result"
    }
   ],
   "source": [
    "last = cv2.imread('pictures/last.jpg',0)\n",
    "len(last[last>20])"
   ]
  },
  {
   "cell_type": "code",
   "execution_count": 11,
   "metadata": {
    "collapsed": false
   },
   "outputs": [],
   "source": [
    "# for whole sampling period\n",
    "pics = sorted(os.listdir('pictures/parkslope'))\n",
    "obstructions = [obs_check('pictures/mask_1.jpg',\n",
    "                         'pictures/mask_2.jpg',\n",
    "                         'pictures/parkslope/'+pics[i],\n",
    "                         'pictures/parkslope/'+pics[i+1],\n",
    "                         'pictures/parkslope/'+pics[i+2]\n",
    "                         ) for i in range(len(pics)-3)] "
   ]
  },
  {
   "cell_type": "code",
   "execution_count": 12,
   "metadata": {
    "collapsed": false
   },
   "outputs": [
    {
     "data": {
      "text/plain": [
       "[('Proj4_img00000001.jpg', 0),\n",
       " ('Proj4_img00000002.jpg', 0),\n",
       " ('Proj4_img00000003.jpg', 0),\n",
       " ('Proj4_img00000004.jpg', 1),\n",
       " ('Proj4_img00000005.jpg', 1),\n",
       " ('Proj4_img00000006.jpg', 0),\n",
       " ('Proj4_img00000007.jpg', 0),\n",
       " ('Proj4_img00000008.jpg', 0),\n",
       " ('Proj4_img00000009.jpg', 0),\n",
       " ('Proj4_img00000010.jpg', 0),\n",
       " ('Proj4_img00000011.jpg', 0),\n",
       " ('Proj4_img00000012.jpg', 0),\n",
       " ('Proj4_img00000013.jpg', 0),\n",
       " ('Proj4_img00000014.jpg', 0),\n",
       " ('Proj4_img00000015.jpg', 0),\n",
       " ('Proj4_img00000016.jpg', 0),\n",
       " ('Proj4_img00000017.jpg', 0),\n",
       " ('Proj4_img00000018.jpg', 0),\n",
       " ('Proj4_img00000019.jpg', 0),\n",
       " ('Proj4_img00000020.jpg', 1),\n",
       " ('Proj4_img00000021.jpg', 1),\n",
       " ('Proj4_img00000022.jpg', 1),\n",
       " ('Proj4_img00000023.jpg', 0),\n",
       " ('Proj4_img00000024.jpg', 0),\n",
       " ('Proj4_img00000025.jpg', 0),\n",
       " ('Proj4_img00000026.jpg', 0),\n",
       " ('Proj4_img00000027.jpg', 0),\n",
       " ('Proj4_img00000028.jpg', 0),\n",
       " ('Proj4_img00000029.jpg', 0),\n",
       " ('Proj4_img00000030.jpg', 0),\n",
       " ('Proj4_img00000031.jpg', 0),\n",
       " ('Proj4_img00000032.jpg', 0),\n",
       " ('Proj4_img00000033.jpg', 0),\n",
       " ('Proj4_img00000034.jpg', 0),\n",
       " ('Proj4_img00000035.jpg', 0),\n",
       " ('Proj4_img00000036.jpg', 0),\n",
       " ('Proj4_img00000037.jpg', 0),\n",
       " ('Proj4_img00000038.jpg', 0),\n",
       " ('Proj4_img00000039.jpg', 1),\n",
       " ('Proj4_img00000040.jpg', 0),\n",
       " ('Proj4_img00000041.jpg', 0),\n",
       " ('Proj4_img00000042.jpg', 0),\n",
       " ('Proj4_img00000043.jpg', 0),\n",
       " ('Proj4_img00000044.jpg', 0),\n",
       " ('Proj4_img00000045.jpg', 0),\n",
       " ('Proj4_img00000046.jpg', 0),\n",
       " ('Proj4_img00000047.jpg', 0),\n",
       " ('Proj4_img00000048.jpg', 0),\n",
       " ('Proj4_img00000049.jpg', 0),\n",
       " ('Proj4_img00000050.jpg', 1),\n",
       " ('Proj4_img00000051.jpg', 1),\n",
       " ('Proj4_img00000052.jpg', 0),\n",
       " ('Proj4_img00000053.jpg', 0),\n",
       " ('Proj4_img00000054.jpg', 0),\n",
       " ('Proj4_img00000055.jpg', 1),\n",
       " ('Proj4_img00000056.jpg', 0),\n",
       " ('Proj4_img00000057.jpg', 0),\n",
       " ('Proj4_img00000058.jpg', 1),\n",
       " ('Proj4_img00000059.jpg', 1),\n",
       " ('Proj4_img00000060.jpg', 0),\n",
       " ('Proj4_img00000061.jpg', 0),\n",
       " ('Proj4_img00000062.jpg', 0),\n",
       " ('Proj4_img00000063.jpg', 0),\n",
       " ('Proj4_img00000064.jpg', 0),\n",
       " ('Proj4_img00000065.jpg', 0),\n",
       " ('Proj4_img00000066.jpg', 0),\n",
       " ('Proj4_img00000067.jpg', 0),\n",
       " ('Proj4_img00000068.jpg', 0),\n",
       " ('Proj4_img00000069.jpg', 0),\n",
       " ('Proj4_img00000070.jpg', 0),\n",
       " ('Proj4_img00000071.jpg', 1),\n",
       " ('Proj4_img00000072.jpg', 0),\n",
       " ('Proj4_img00000073.jpg', 0),\n",
       " ('Proj4_img00000074.jpg', 0),\n",
       " ('Proj4_img00000075.jpg', 0),\n",
       " ('Proj4_img00000076.jpg', 0),\n",
       " ('Proj4_img00000077.jpg', 0),\n",
       " ('Proj4_img00000078.jpg', 0),\n",
       " ('Proj4_img00000079.jpg', 0),\n",
       " ('Proj4_img00000080.jpg', 0),\n",
       " ('Proj4_img00000081.jpg', 0),\n",
       " ('Proj4_img00000082.jpg', 0),\n",
       " ('Proj4_img00000083.jpg', 0),\n",
       " ('Proj4_img00000084.jpg', 0),\n",
       " ('Proj4_img00000085.jpg', 1),\n",
       " ('Proj4_img00000086.jpg', 0),\n",
       " ('Proj4_img00000087.jpg', 1),\n",
       " ('Proj4_img00000088.jpg', 0),\n",
       " ('Proj4_img00000089.jpg', 0),\n",
       " ('Proj4_img00000090.jpg', 1),\n",
       " ('Proj4_img00000091.jpg', 0),\n",
       " ('Proj4_img00000092.jpg', 0),\n",
       " ('Proj4_img00000093.jpg', 1),\n",
       " ('Proj4_img00000094.jpg', 0),\n",
       " ('Proj4_img00000095.jpg', 0),\n",
       " ('Proj4_img00000096.jpg', 0),\n",
       " ('Proj4_img00000097.jpg', 0),\n",
       " ('Proj4_img00000098.jpg', 1),\n",
       " ('Proj4_img00000099.jpg', 0),\n",
       " ('Proj4_img00000100.jpg', 0),\n",
       " ('Proj4_img00000101.jpg', 0),\n",
       " ('Proj4_img00000102.jpg', 0),\n",
       " ('Proj4_img00000103.jpg', 0),\n",
       " ('Proj4_img00000104.jpg', 0),\n",
       " ('Proj4_img00000105.jpg', 1),\n",
       " ('Proj4_img00000106.jpg', 0),\n",
       " ('Proj4_img00000107.jpg', 1),\n",
       " ('Proj4_img00000108.jpg', 0),\n",
       " ('Proj4_img00000109.jpg', 0),\n",
       " ('Proj4_img00000110.jpg', 0),\n",
       " ('Proj4_img00000111.jpg', 0),\n",
       " ('Proj4_img00000112.jpg', 0),\n",
       " ('Proj4_img00000113.jpg', 0),\n",
       " ('Proj4_img00000114.jpg', 0),\n",
       " ('Proj4_img00000115.jpg', 0),\n",
       " ('Proj4_img00000116.jpg', 0),\n",
       " ('Proj4_img00000117.jpg', 0),\n",
       " ('Proj4_img00000118.jpg', 0),\n",
       " ('Proj4_img00000119.jpg', 0),\n",
       " ('Proj4_img00000120.jpg', 0),\n",
       " ('Proj4_img00000121.jpg', 0),\n",
       " ('Proj4_img00000122.jpg', 1),\n",
       " ('Proj4_img00000123.jpg', 0),\n",
       " ('Proj4_img00000124.jpg', 0),\n",
       " ('Proj4_img00000125.jpg', 0),\n",
       " ('Proj4_img00000126.jpg', 0),\n",
       " ('Proj4_img00000127.jpg', 0),\n",
       " ('Proj4_img00000128.jpg', 0),\n",
       " ('Proj4_img00000129.jpg', 0),\n",
       " ('Proj4_img00000130.jpg', 0),\n",
       " ('Proj4_img00000131.jpg', 0),\n",
       " ('Proj4_img00000132.jpg', 0),\n",
       " ('Proj4_img00000133.jpg', 0),\n",
       " ('Proj4_img00000134.jpg', 1),\n",
       " ('Proj4_img00000135.jpg', 0),\n",
       " ('Proj4_img00000136.jpg', 0),\n",
       " ('Proj4_img00000137.jpg', 0),\n",
       " ('Proj4_img00000138.jpg', 0),\n",
       " ('Proj4_img00000139.jpg', 0),\n",
       " ('Proj4_img00000140.jpg', 0),\n",
       " ('Proj4_img00000141.jpg', 0),\n",
       " ('Proj4_img00000142.jpg', 0),\n",
       " ('Proj4_img00000143.jpg', 0),\n",
       " ('Proj4_img00000144.jpg', 0),\n",
       " ('Proj4_img00000145.jpg', 1),\n",
       " ('Proj4_img00000146.jpg', 1),\n",
       " ('Proj4_img00000147.jpg', 0),\n",
       " ('Proj4_img00000148.jpg', 0),\n",
       " ('Proj4_img00000149.jpg', 0),\n",
       " ('Proj4_img00000150.jpg', 0),\n",
       " ('Proj4_img00000151.jpg', 0),\n",
       " ('Proj4_img00000152.jpg', 0),\n",
       " ('Proj4_img00000153.jpg', 0),\n",
       " ('Proj4_img00000154.jpg', 0),\n",
       " ('Proj4_img00000155.jpg', 0),\n",
       " ('Proj4_img00000156.jpg', 0),\n",
       " ('Proj4_img00000157.jpg', 0),\n",
       " ('Proj4_img00000158.jpg', 0),\n",
       " ('Proj4_img00000159.jpg', 0),\n",
       " ('Proj4_img00000160.jpg', 0),\n",
       " ('Proj4_img00000161.jpg', 0),\n",
       " ('Proj4_img00000162.jpg', 0),\n",
       " ('Proj4_img00000163.jpg', 1),\n",
       " ('Proj4_img00000164.jpg', 0),\n",
       " ('Proj4_img00000165.jpg', 0),\n",
       " ('Proj4_img00000166.jpg', 0),\n",
       " ('Proj4_img00000167.jpg', 0),\n",
       " ('Proj4_img00000168.jpg', 0),\n",
       " ('Proj4_img00000169.jpg', 0),\n",
       " ('Proj4_img00000170.jpg', 0),\n",
       " ('Proj4_img00000171.jpg', 1),\n",
       " ('Proj4_img00000172.jpg', 1),\n",
       " ('Proj4_img00000173.jpg', 0),\n",
       " ('Proj4_img00000174.jpg', 0),\n",
       " ('Proj4_img00000175.jpg', 0),\n",
       " ('Proj4_img00000176.jpg', 1),\n",
       " ('Proj4_img00000177.jpg', 0),\n",
       " ('Proj4_img00000178.jpg', 0),\n",
       " ('Proj4_img00000179.jpg', 0),\n",
       " ('Proj4_img00000180.jpg', 0),\n",
       " ('Proj4_img00000181.jpg', 1),\n",
       " ('Proj4_img00000182.jpg', 1)]"
      ]
     },
     "execution_count": 12,
     "metadata": {},
     "output_type": "execute_result"
    }
   ],
   "source": [
    "zip(pics,obstructions)"
   ]
  },
  {
   "cell_type": "code",
   "execution_count": 13,
   "metadata": {
    "collapsed": false
   },
   "outputs": [
    {
     "data": {
      "text/plain": [
       "29"
      ]
     },
     "execution_count": 13,
     "metadata": {},
     "output_type": "execute_result"
    }
   ],
   "source": [
    "sum(obstructions)"
   ]
  }
 ],
 "metadata": {
  "anaconda-cloud": {},
  "kernelspec": {
   "display_name": "Python 2",
   "language": "python",
   "name": "python2"
  },
  "language_info": {
   "codemirror_mode": {
    "name": "ipython",
    "version": 2
   },
   "file_extension": ".py",
   "mimetype": "text/x-python",
   "name": "python",
   "nbconvert_exporter": "python",
   "pygments_lexer": "ipython2",
   "version": "2.7.13"
  }
 },
 "nbformat": 4,
 "nbformat_minor": 1
}
