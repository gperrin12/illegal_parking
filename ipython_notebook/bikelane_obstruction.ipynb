{
 "cells": [
  {
   "cell_type": "code",
   "execution_count": 109,
   "metadata": {
    "collapsed": true
   },
   "outputs": [],
   "source": [
    "import cv2\n",
    "import numpy as np\n",
    "import subprocess\n",
    "import os\n",
    "from IPython.display import Image\n",
    "import pandas as pd\n",
    "import matplotlib.cm as cm\n",
    "import matplotlib.pyplot as plt\n",
    "%matplotlib inline\n",
    "pd.options.display.max_columns = 120\n",
    "\n",
    "# make sure we are at the top of the repo\n",
    "wd = subprocess.check_output('git rev-parse --show-toplevel', shell = True)\n",
    "os.chdir(wd[:-1]) #-1 removes \\n"
   ]
  },
  {
   "cell_type": "code",
   "execution_count": 124,
   "metadata": {
    "collapsed": false
   },
   "outputs": [
    {
     "data": {
      "text/plain": [
       "True"
      ]
     },
     "execution_count": 124,
     "metadata": {},
     "output_type": "execute_result"
    }
   ],
   "source": [
    "# generate the bikelane mask from our edited photo and the original\n",
    "img1 = cv2.imread('pictures/mask_2.jpg',0)\n",
    "img2 = cv2.imread('pictures/mask_1.jpg',0)\n",
    "\n",
    "mask = cv2.subtract(img2, img1)\n",
    "mask[mask < 10] = 0\n",
    "mask[mask >= 10] = 1\n",
    "\n",
    "# write the mask to a jpg\n",
    "cv2.imwrite('pictures/mask.jpg', mask)"
   ]
  },
  {
   "cell_type": "code",
   "execution_count": 183,
   "metadata": {
    "collapsed": false
   },
   "outputs": [
    {
     "data": {
      "text/plain": [
       "True"
      ]
     },
     "execution_count": 183,
     "metadata": {},
     "output_type": "execute_result"
    }
   ],
   "source": [
    "# no obstruction case\n",
    "\n",
    "\n",
    "# read in original images\n",
    "imgA = cv2.imread('pictures/no_obs1.jpg',0)\n",
    "imgB = cv2.imread('pictures/no_obs2.jpg',0)\n",
    "imgC = cv2.imread('pictures/no_obs3.jpg',0)\n",
    "\n",
    "# look only at the mask\n",
    "Aprime = mask * imgA\n",
    "Bprime = mask * imgB\n",
    "Cprime = mask * imgC\n",
    "\n",
    "# get diffs\n",
    "dAB = cv2.subtract(Bprime, Aprime)\n",
    "dBC = cv2.subtract(Cprime, Bprime)\n",
    "\n",
    "# export\n",
    "cv2.imwrite('pictures/aprime.jpg',Aprime)\n",
    "cv2.imwrite('pictures/bprime.jpg',Bprime)\n",
    "cv2.imwrite('pictures/cprime.jpg',Cprime)\n",
    "cv2.imwrite('pictures/dAB.jpg', dAB)\n",
    "cv2.imwrite('pictures/dBC.jpg', dBC)"
   ]
  },
  {
   "cell_type": "code",
   "execution_count": 184,
   "metadata": {
    "collapsed": false
   },
   "outputs": [
    {
     "data": {
      "text/plain": [
       "True"
      ]
     },
     "execution_count": 184,
     "metadata": {},
     "output_type": "execute_result"
    }
   ],
   "source": [
    "# use dAB as a mask\n",
    "dAB[dAB < 10] = 0\n",
    "dAB[dAB >= 10] = 1\n",
    "\n",
    "test = dAB * dBC\n",
    "cv2.imwrite('pictures/test.jpg', test)"
   ]
  },
  {
   "cell_type": "code",
   "execution_count": 182,
   "metadata": {
    "collapsed": false
   },
   "outputs": [
    {
     "data": {
      "text/plain": [
       "121"
      ]
     },
     "execution_count": 182,
     "metadata": {},
     "output_type": "execute_result"
    }
   ],
   "source": [
    "test.max()"
   ]
  },
  {
   "cell_type": "code",
   "execution_count": null,
   "metadata": {
    "collapsed": true
   },
   "outputs": [],
   "source": []
  }
 ],
 "metadata": {
  "anaconda-cloud": {},
  "kernelspec": {
   "display_name": "Python 2",
   "language": "python",
   "name": "python2"
  },
  "language_info": {
   "codemirror_mode": {
    "name": "ipython",
    "version": 2
   },
   "file_extension": ".py",
   "mimetype": "text/x-python",
   "name": "python",
   "nbconvert_exporter": "python",
   "pygments_lexer": "ipython2",
   "version": "2.7.13"
  }
 },
 "nbformat": 4,
 "nbformat_minor": 1
}
