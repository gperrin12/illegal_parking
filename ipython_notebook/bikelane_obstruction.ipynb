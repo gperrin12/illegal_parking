{
 "cells": [
  {
   "cell_type": "code",
   "execution_count": 1,
   "metadata": {
    "collapsed": true
   },
   "outputs": [],
   "source": [
    "import cv2\n",
    "import numpy as np\n",
    "import subprocess\n",
    "import os\n",
    "from IPython.display import Image\n",
    "import pandas as pd\n",
    "import matplotlib.cm as cm\n",
    "import matplotlib.pyplot as plt\n",
    "%matplotlib inline\n",
    "pd.options.display.max_columns = 120\n",
    "\n",
    "# make sure we are at the top of the repo\n",
    "wd = subprocess.check_output('git rev-parse --show-toplevel', shell = True)\n",
    "os.chdir(wd[:-1]) #-1 removes \\n"
   ]
  },
  {
   "cell_type": "code",
   "execution_count": 119,
   "metadata": {
    "collapsed": true
   },
   "outputs": [],
   "source": [
    "def obs_check(mask1, mask2, imgA, imgB, imgC):\n",
    "    # generate the bikelane mask from our edited photos from each other\n",
    "    mask1 = cv2.imread(mask1,0) # white\n",
    "    mask2 = cv2.imread(mask2,0) # red\n",
    "    mask = cv2.subtract(mask1, mask2) # red - white\n",
    "   \n",
    "    # write the mask to a jpg\n",
    "    cv2.imwrite('pictures/mask.jpg', mask)\n",
    "    \n",
    "    # edit mask to give us lane identifier\n",
    "    mask[mask < 10] = 0\n",
    "    mask[mask >= 10] = 1\n",
    "\n",
    "    # read in original images\n",
    "    imgA = cv2.imread(imgA,0)\n",
    "    imgB = cv2.imread(imgB,0)\n",
    "    imgC = cv2.imread(imgC,0)\n",
    "    \n",
    "    # look only at the mask\n",
    "    Aprime = mask * imgA\n",
    "    Bprime = mask * imgB\n",
    "    Cprime = mask * imgC\n",
    "    \n",
    "    # get diffs\n",
    "    dAB = cv2.subtract(Bprime, Aprime)\n",
    "    dBC = cv2.subtract(Cprime, Bprime)\n",
    "    dAC = cv2.subtract(Cprime, Aprime)\n",
    "    \n",
    "    # export\n",
    "    cv2.imwrite('pictures/aprime.jpg',Aprime)\n",
    "    cv2.imwrite('pictures/bprime.jpg',Bprime)\n",
    "    cv2.imwrite('pictures/cprime.jpg',Cprime)\n",
    "    cv2.imwrite('pictures/dAB.jpg', dAB)\n",
    "    cv2.imwrite('pictures/dBC.jpg', dBC)\n",
    "    cv2.imwrite('pictures/dAC.jpg', dAC)\n",
    "    \n",
    "    if len(dAB[dAB > 50]) < 65:\n",
    "        return(0)\n",
    "    \n",
    "    \n",
    "    # use dAB as a mask\n",
    "    #d = cv2.subtract(dBC, dAC)\n",
    "    #cv2.imwrite('pictures/d.jpg', d)\n",
    "    dAB[dAB < 20] = 0\n",
    "    dAB[dAB >= 20] = 1\n",
    "    \n",
    "    #d[d < 20] = 0\n",
    "    #d[d >= 20] = 1\n",
    "\n",
    "    last = dAB * dBC\n",
    "    cv2.imwrite('pictures/last.jpg', last)\n",
    "    \n",
    "    # threshold for changed pixels  \n",
    "    if len(last[last > 20]) > 15:\n",
    "        return(0)\n",
    "    else:\n",
    "        return(1)"
   ]
  },
  {
   "cell_type": "code",
   "execution_count": 120,
   "metadata": {
    "collapsed": false
   },
   "outputs": [
    {
     "data": {
      "text/plain": [
       "0"
      ]
     },
     "execution_count": 120,
     "metadata": {},
     "output_type": "execute_result"
    }
   ],
   "source": [
    "# no obstruction case\n",
    "obs_check('pictures/mask_1.jpg', 'pictures/mask_2.jpg', 'pictures/no_obs1.jpg', 'pictures/no_obs2.jpg', 'pictures/no_obs3.jpg')"
   ]
  },
  {
   "cell_type": "code",
   "execution_count": 121,
   "metadata": {
    "collapsed": false
   },
   "outputs": [
    {
     "data": {
      "text/plain": [
       "1"
      ]
     },
     "execution_count": 121,
     "metadata": {},
     "output_type": "execute_result"
    }
   ],
   "source": [
    "# obstruction case\n",
    "obs_check('pictures/mask_1.jpg', 'pictures/mask_2.jpg', 'pictures/obs1.jpg', 'pictures/obs2.jpg', 'pictures/obs3.jpg')"
   ]
  },
  {
   "cell_type": "code",
   "execution_count": 122,
   "metadata": {
    "collapsed": false
   },
   "outputs": [
    {
     "data": {
      "text/plain": [
       "0"
      ]
     },
     "execution_count": 122,
     "metadata": {},
     "output_type": "execute_result"
    }
   ],
   "source": [
    "# no obstruction again\n",
    "obs_check('pictures/mask_1.jpg', 'pictures/mask_2.jpg', 'pictures/Proj4_img00000011.jpg',\n",
    "         'pictures/Proj4_img00000012.jpg', 'pictures/Proj4_img00000013.jpg')"
   ]
  },
  {
   "cell_type": "code",
   "execution_count": 123,
   "metadata": {
    "collapsed": false
   },
   "outputs": [
    {
     "data": {
      "text/plain": [
       "1"
      ]
     },
     "execution_count": 123,
     "metadata": {},
     "output_type": "execute_result"
    }
   ],
   "source": [
    "# obstruction again\n",
    "obs_check('pictures/mask_1.jpg', 'pictures/mask_2.jpg', 'pictures/Proj4_img00000071.jpg',\n",
    "         'pictures/Proj4_img00000072.jpg', 'pictures/Proj4_img00000073.jpg')"
   ]
  },
  {
   "cell_type": "code",
   "execution_count": 124,
   "metadata": {
    "collapsed": false
   },
   "outputs": [
    {
     "data": {
      "text/plain": [
       "0"
      ]
     },
     "execution_count": 124,
     "metadata": {},
     "output_type": "execute_result"
    }
   ],
   "source": [
    "# cyclists -- no obstruction\n",
    "obs_check('pictures/mask_1.jpg', 'pictures/mask_2.jpg', 'pictures/Proj4_img00000019.jpg',\n",
    "         'pictures/Proj4_img00000020.jpg', 'pictures/Proj4_img00000021.jpg')"
   ]
  },
  {
   "cell_type": "code",
   "execution_count": 125,
   "metadata": {
    "collapsed": false
   },
   "outputs": [
    {
     "data": {
      "text/plain": [
       "1"
      ]
     },
     "execution_count": 125,
     "metadata": {},
     "output_type": "execute_result"
    }
   ],
   "source": [
    "# another obstruction\n",
    "obs_check('pictures/mask_1.jpg', 'pictures/mask_2.jpg', 'pictures/Proj4_img00000172.jpg',\n",
    "         'pictures/Proj4_img00000173.jpg', 'pictures/Proj4_img00000174.jpg')"
   ]
  },
  {
   "cell_type": "code",
   "execution_count": 117,
   "metadata": {
    "collapsed": false
   },
   "outputs": [
    {
     "data": {
      "text/plain": [
       "68"
      ]
     },
     "execution_count": 117,
     "metadata": {},
     "output_type": "execute_result"
    }
   ],
   "source": [
    "dAB = cv2.imread('pictures/dAB.jpg',0)\n",
    "len(dAB[dAB > 50])"
   ]
  },
  {
   "cell_type": "code",
   "execution_count": 118,
   "metadata": {
    "collapsed": false
   },
   "outputs": [
    {
     "data": {
      "text/plain": [
       "16"
      ]
     },
     "execution_count": 118,
     "metadata": {},
     "output_type": "execute_result"
    }
   ],
   "source": [
    "last = cv2.imread('pictures/last.jpg',0)\n",
    "len(last[last>20])"
   ]
  },
  {
   "cell_type": "code",
   "execution_count": null,
   "metadata": {
    "collapsed": true
   },
   "outputs": [],
   "source": []
  }
 ],
 "metadata": {
  "anaconda-cloud": {},
  "kernelspec": {
   "display_name": "Python 2",
   "language": "python",
   "name": "python2"
  },
  "language_info": {
   "codemirror_mode": {
    "name": "ipython",
    "version": 2
   },
   "file_extension": ".py",
   "mimetype": "text/x-python",
   "name": "python",
   "nbconvert_exporter": "python",
   "pygments_lexer": "ipython2",
   "version": "2.7.13"
  }
 },
 "nbformat": 4,
 "nbformat_minor": 1
}
